{
 "cells": [
  {
   "cell_type": "markdown",
   "metadata": {},
   "source": [
    "1.1. Listas\n",
    "\n",
    "As listas são coleções ordenadas e mutáveis, ideais para armazenar sequências de dados.\n",
    "\n",
    "Características :\n",
    "\n",
    "São ordenadas (os elementos têm uma posição fixa).\n",
    "Permitam duplicatas.\n",
    "São mutáveis ​​(podemos alterar, adicionar ou remover itens)."
   ]
  },
  {
   "cell_type": "code",
   "execution_count": 16,
   "metadata": {},
   "outputs": [
    {
     "name": "stdout",
     "output_type": "stream",
     "text": [
      "['cereja', 'laranja', 'maçã']\n",
      "False\n"
     ]
    }
   ],
   "source": [
    "# Criando uma tupla\n",
    "cores = (\"vermelho\", \"azul\", \"verde\")\n",
    "\n",
    "# Acessando elementos\n",
    "print(cores[1])  # Saída: azul\n",
    "\n",
    "# Tuplas são imutáveis, então não é possível modificar seus elementos."
   ]
  },
  {
   "cell_type": "code",
   "execution_count": null,
   "metadata": {},
   "outputs": [],
   "source": [
    "tupla = (1, 2, 3, 2, 2)\n",
    "print(tupla.count(2))  # 3 ocorrências\n",
    "\n",
    "print(tupla.index(3))  # index 2"
   ]
  },
  {
   "cell_type": "code",
   "execution_count": null,
   "metadata": {},
   "outputs": [],
   "source": [
    "from collections import deque\n",
    "\n",
    "fila = deque()\n",
    "fila.append(1)  # Adicionar na fila\n",
    "fila.append(2)\n",
    "\n",
    "primeiro = fila.popleft()  # Remover da fila\n",
    "print(primeiro)  # 1"
   ]
  },
  {
   "cell_type": "code",
   "execution_count": null,
   "metadata": {},
   "outputs": [],
   "source": [
    "# Criando um dicionário\n",
    "aluno = {\"nome\": \"João\", \"idade\": 20}\n",
    "\n",
    "# Acessar valores\n",
    "print(aluno[\"nome\"])  # \"João\"\n",
    "\n",
    "# Adicionar um novo par\n",
    "aluno[\"curso\"] = \"Engenharia\"\n",
    "\n",
    "# Remover uma chave\n",
    "del aluno[\"idade\"]"
   ]
  },
  {
   "cell_type": "code",
   "execution_count": null,
   "metadata": {},
   "outputs": [],
   "source": [
    "# Criando conjuntos\n",
    "A = {1, 2, 3}\n",
    "B = {2, 3, 4}\n",
    "\n",
    "# Operações\n",
    "print(A | B)  # União: {1, 2, 3, 4}\n",
    "print(A & B)  # Interseção: {2, 3}\n",
    "print(A - B)  # Diferença: {1}"
   ]
  },
  {
   "cell_type": "code",
   "execution_count": 14,
   "metadata": {},
   "outputs": [
    {
     "name": "stdout",
     "output_type": "stream",
     "text": [
      "1\n"
     ]
    }
   ],
   "source": [
    "from collections import deque\n",
    "\n",
    "fila = deque()\n",
    "fila.append(1)  # Adicionar na fila\n",
    "fila.append(2)\n",
    "fila.append(3)\n",
    "fila.append(4)\n",
    "fila.append(5)\n",
    "primeiro = fila.popleft()  # Remover da fila\n",
    "print(primeiro) "
   ]
  }
 ],
 "metadata": {
  "kernelspec": {
   "display_name": "Python 3",
   "language": "python",
   "name": "python3"
  },
  "language_info": {
   "codemirror_mode": {
    "name": "ipython",
    "version": 3
   },
   "file_extension": ".py",
   "mimetype": "text/x-python",
   "name": "python",
   "nbconvert_exporter": "python",
   "pygments_lexer": "ipython3",
   "version": "3.11.5"
  }
 },
 "nbformat": 4,
 "nbformat_minor": 2
}
