{
 "cells": [
  {
   "cell_type": "markdown",
   "metadata": {},
   "source": [
    "# Estruturas de Dados em Python\n",
    "\n",
    "Python é uma linguagem de programação poderosa e fácil de aprender, tornando-a ideal para iniciantes. Nesta apostila, abordaremos as principais estruturas de dados nativas em Python, incluindo listas, tuplas, conjuntos e dicionários. Além disso, incluímos uma lista de exercícios práticos ao final.\n",
    "\n",
    "---\n",
    "\n",
    "## **1. O que são Estruturas de Dados?**\n",
    "\n",
    "Estruturas de dados são formas organizadas de armazenar e gerenciar dados, permitindo operações eficientes como inserção, remoção e busca. Elas são essenciais para resolver problemas de programação de maneira eficiente.\n",
    "\n",
    "### **Importância:**\n",
    "\n",
    "- Facilitam a organização de informações.\n",
    "- Melhoram a eficiência do código.\n",
    "- São usadas em diversas áreas, como inteligência artificial, análise de dados e desenvolvimento de sistemas.\n",
    "\n",
    "Exemplo do dia a dia: Usar uma lista para armazenar os nomes de alunos de uma sala.\n",
    "\n",
    "---\n",
    "## **2. Estruturas de Dados em Python**\n",
    "\n",
    "Python oferece várias estruturas de dados integradas que são intuitivas e fáceis de usar. Vamos explorar as principais:\n",
    "\n",
    "### **2.1. Listas**\n",
    "\n",
    "Uma lista é uma coleção ordenada e mutável que permite armazenar diversos tipos de dados.\n",
    "\n",
    "#### **Exemplo de lista:**\n",
    "\n",
    "```"
   ]
  },
  {
   "cell_type": "code",
   "execution_count": 2,
   "metadata": {},
   "outputs": [
    {
     "name": "stdout",
     "output_type": "stream",
     "text": [
      "maçã\n",
      "['maçã', 'uva', 'laranja']\n",
      "['maçã', 'uva', 'laranja', 'abacaxi']\n",
      "['maçã', 'laranja', 'abacaxi']\n"
     ]
    }
   ],
   "source": [
    "# Criando uma lista\n",
    "frutas = [\"maçã\", \"banana\", \"laranja\"]\n",
    "\n",
    "# Acessando elementos\n",
    "print(frutas[0])  # Saída: maçã\n",
    "\n",
    "# Modificando um elemento\n",
    "frutas[1] = \"uva\"\n",
    "print(frutas)  # Saída: [\"maçã\", \"uva\", \"laranja\"]\n",
    "\n",
    "# Adicionando elementos\n",
    "frutas.append(\"abacaxi\")\n",
    "print(frutas)  # Saída: [\"maçã\", \"uva\", \"laranja\", \"abacaxi\"]\n",
    "\n",
    "# Removendo elementos\n",
    "frutas.remove(\"uva\")\n",
    "print(frutas)  # Saída: [\"maçã\", \"laranja\", \"abacaxi\"]"
   ]
  },
  {
   "cell_type": "markdown",
   "metadata": {},
   "source": [
    "\n",
    "\n",
    "#### **Métodos comuns:**\n",
    "\n",
    "- `append()`: Adiciona um elemento ao final da lista.\n",
    "- `remove()`: Remove um elemento especificado.\n",
    "- `pop()`: Remove e retorna o último elemento.\n",
    "- `sort()`: Ordena a lista.\n",
    "- `len()`: Retorna o tamanho da lista.\n",
    "\n",
    "---\n",
    "\n",
    "### **2.2. Tuplas**\n",
    "\n",
    "Uma tupla é uma coleção ordenada e imutável. Ela é ideal para armazenar dados que não devem ser alterados.\n",
    "\n",
    "#### **Exemplo de tupla:**"
   ]
  },
  {
   "cell_type": "code",
   "execution_count": 3,
   "metadata": {},
   "outputs": [
    {
     "name": "stdout",
     "output_type": "stream",
     "text": [
      "azul\n"
     ]
    }
   ],
   "source": [
    "\n",
    "# Criando uma tupla\n",
    "cores = (\"vermelho\", \"azul\", \"verde\")\n",
    "\n",
    "# Acessando elementos\n",
    "print(cores[1])  # Saída: azul\n",
    "\n",
    "# Tuplas são imutáveis, então não é possível modificar seus elementos."
   ]
  },
  {
   "cell_type": "markdown",
   "metadata": {},
   "source": [
    "\n",
    "\n",
    "#### **Vantagens:**\n",
    "\n",
    "- Mais rápidas do que listas.\n",
    "- Imutáveis, garantindo a integridade dos dados.\n",
    "\n",
    "---\n",
    "\n",
    "### **2.3. Conjuntos**\n",
    "\n",
    "Conjuntos são coleções desordenadas e sem elementos duplicados. Eles são úteis para operações como união, interseção e diferença, além de garantir que nenhum elemento se repita.\n",
    "\n",
    "#### **Exemplo de conjunto:**"
   ]
  },
  {
   "cell_type": "code",
   "execution_count": 4,
   "metadata": {},
   "outputs": [
    {
     "name": "stdout",
     "output_type": "stream",
     "text": [
      "{1, 2, 3, 4, 5, 6}\n",
      "{1, 2, 4, 5, 6}\n",
      "{1, 2, 4, 5, 6, 7, 8}\n",
      "{5, 6}\n",
      "{1, 2, 4}\n"
     ]
    }
   ],
   "source": [
    "# Criando um conjunto\n",
    "numeros = {1, 2, 3, 4, 5}\n",
    "\n",
    "# Adicionando elementos\n",
    "numeros.add(6)\n",
    "print(numeros)  # Saída: {1, 2, 3, 4, 5, 6}\n",
    "\n",
    "# Removendo elementos\n",
    "numeros.remove(3)\n",
    "print(numeros)  # Saída: {1, 2, 4, 5, 6}\n",
    "\n",
    "# União de conjuntos\n",
    "outro_conjunto = {5, 6, 7, 8}\n",
    "uniao = numeros.union(outro_conjunto)\n",
    "print(uniao)  # Saída: {1, 2, 4, 5, 6, 7, 8}\n",
    "\n",
    "# Interseção de conjuntos\n",
    "intersecao = numeros.intersection(outro_conjunto)\n",
    "print(intersecao)  # Saída: {5, 6}\n",
    "\n",
    "# Diferença de conjuntos\n",
    "diferenca = numeros.difference(outro_conjunto)\n",
    "print(diferenca)  # Saída: {1, 2, 4}\n"
   ]
  },
  {
   "cell_type": "markdown",
   "metadata": {},
   "source": [
    "#### **Métodos comuns:**\n",
    "\n",
    "- `add()`: Adiciona um elemento ao conjunto.\n",
    "- `remove()`: Remove um elemento especificado (gera erro se não existir).\n",
    "- `discard()`: Remove um elemento especificado (não gera erro se não existir).\n",
    "- `union()`: Retorna a união de dois conjuntos.\n",
    "- `intersection()`: Retorna a interseção de dois conjuntos.\n",
    "- `difference()`: Retorna a diferença entre dois conjuntos.\n",
    "- `clear()`: Remove todos os elementos do conjunto.\n",
    "\n",
    "Conjuntos são coleções desordenadas e sem elementos duplicados. São úteis para realizar operações como união, interseção e diferença.\n"
   ]
  },
  {
   "cell_type": "markdown",
   "metadata": {},
   "source": [
    "\n",
    "---\n",
    "\n",
    "### **2.4. Dicionários**\n",
    "\n",
    "Dicionários armazenam pares de chave-valor. São ideais para acessar dados de forma rápida usando uma chave.\n",
    "\n",
    "#### **Exemplo de dicionário:**\n"
   ]
  },
  {
   "cell_type": "markdown",
   "metadata": {},
   "source": [
    "\n",
    "#### **Métodos comuns:**\n",
    "\n",
    "- `keys()`: Retorna todas as chaves do dicionário.\n",
    "- `values()`: Retorna todos os valores do dicionário.\n",
    "- `items()`: Retorna pares de chave-valor como tuplas.\n",
    "- `get()`: Retorna o valor de uma chave específica (ou um valor padrão, se a chave não existir).\n",
    "- `update()`: Atualiza o dicionário com outro dicionário ou pares chave-valor.\n",
    "- `pop()`: Remove e retorna o valor associado a uma chave.\n",
    "- `clear()`: Remove todos os itens do dicionário.\n",
    "\n",
    "#### **Exemplo de uso de métodos:**"
   ]
  },
  {
   "cell_type": "code",
   "execution_count": 5,
   "metadata": {},
   "outputs": [
    {
     "name": "stdout",
     "output_type": "stream",
     "text": [
      "dict_keys(['nome', 'idade', 'curso'])\n",
      "dict_values(['João', 25, 'Engenharia'])\n",
      "dict_items([('nome', 'João'), ('idade', 25), ('curso', 'Engenharia')])\n",
      "João\n",
      "Não especificado\n",
      "{'nome': 'João', 'idade': 26, 'curso': 'Engenharia', 'nota': 9.5}\n",
      "{'nome': 'João', 'idade': 26, 'nota': 9.5}\n",
      "{}\n"
     ]
    }
   ],
   "source": [
    "\n",
    "# Trabalhando com métodos\n",
    "aluno = {\"nome\": \"João\", \"idade\": 25, \"curso\": \"Engenharia\"}\n",
    "\n",
    "# Obtendo todas as chaves\n",
    "print(aluno.keys())  # Saída: dict_keys(['nome', 'idade', 'curso'])\n",
    "\n",
    "# Obtendo todos os valores\n",
    "print(aluno.values())  # Saída: dict_values(['João', 25, 'Engenharia'])\n",
    "\n",
    "# Obtendo itens como pares chave-valor\n",
    "print(aluno.items())  # Saída: dict_items([('nome', 'João'), ('idade', 25), ('curso', 'Engenharia')])\n",
    "\n",
    "# Usando o método get\n",
    "print(aluno.get(\"nome\"))  # Saída: João\n",
    "print(aluno.get(\"nota\", \"Não especificado\"))  # Saída: Não especificado\n",
    "\n",
    "# Atualizando valores\n",
    "aluno.update({\"idade\": 26, \"nota\": 9.5})\n",
    "print(aluno)  # Saída: {'nome': 'João', 'idade': 26, 'curso': 'Engenharia', 'nota': 9.5}\n",
    "\n",
    "# Removendo um item\n",
    "aluno.pop(\"curso\")\n",
    "print(aluno)  # Saída: {'nome': 'João', 'idade': 26, 'nota': 9.5}\n",
    "\n",
    "# Limpando o dicionário\n",
    "aluno.clear()\n",
    "print(aluno)  # Saída: {}"
   ]
  },
  {
   "cell_type": "markdown",
   "metadata": {},
   "source": [
    "## **3. Comparativo entre Estruturas de Dados**\n",
    "\n",
    "| Estrutura  | Ordenada | Mutável | Permite Duplicados | Usos Principais                      |\n",
    "| ---------- | -------- | ------- | ------------------ | ------------------------------------ |\n",
    "| Lista      | Sim      | Sim     | Sim                | Armazenar coleções de dados diversos |\n",
    "| Tupla      | Sim      | Não     | Sim                | Dados que não devem mudar            |\n",
    "| Conjunto   | Não      | Sim     | Não                | Operações matemáticas                |\n",
    "| Dicionário | Não      | Sim     | Chaves: Não        | Associação chave-valor               |\n",
    "\n",
    "---\n",
    "\n",
    "## **4. Exercícios Práticos**\n",
    "\n",
    "### **Exercícios Listas**\n",
    "\n",
    "1. Crie uma lista com os nomes de 5 cidades. Em seguida:\n",
    "\n",
    "- Adicione uma nova cidade à lista.\n",
    "- Remova a terceira cidade.\n",
    "- Ordene a lista em ordem alfabética.\n",
    "\n",
    "2. Crie uma lista de números de 1 a 10 e use um laço para calcular a soma de todos os números.\n",
    "3. Verifique se o número 7 está presente na lista de números `[3, 5, 7, 9, 11]`.\n",
    "4. Faça uma lista de compras e remova os itens conforme forem comprados.\n",
    "\n",
    "### **Exercícios Tuplas**\n",
    "\n",
    "1. Crie uma tupla com os números de 1 a 10. Depois:\n",
    "\n",
    "- Acesse o quinto elemento.\n",
    "- Tente modificar o terceiro elemento e observe o erro.\n",
    "\n",
    "2. Dada a tupla `(\"a\", \"b\", \"c\", \"d\")`, verifique se a letra \"c\" está presente.\n",
    "3. Converta a tupla `(1, 2, 3, 4)` em uma lista e adicione o número 5.\n",
    "4. Crie uma tupla com 3 nomes e imprima cada um deles utilizando um laço `for`.\n",
    "\n",
    "### **Exercícios Conjuntos**\n",
    "\n",
    "1. Dado o conjunto `{1, 2, 3, 4, 5}`:\n",
    "\n",
    "- Adicione o número 6.\n",
    "- Remova o número 3.\n",
    "- Crie outro conjunto `{4, 5, 6, 7}` e encontre a interseção.\n",
    "\n",
    "2. Crie dois conjuntos, um com números pares e outro com ímpares, e encontre a união entre eles.\n",
    "3. Verifique se o conjunto `{1, 2}` é subconjunto de `{1, 2, 3, 4}`.\n",
    "4. Remova todos os elementos de um conjunto utilizando o método adequado.\n",
    "\n",
    "### **Exercício Dicionários**\n",
    "\n",
    "1. Crie um dicionário para armazenar informações de um aluno (nome, idade, curso). Depois:\n",
    "\n",
    "- Adicione uma nova informação: \"nota final\".\n",
    "- Modifique o curso do aluno.\n",
    "- Imprima todas as chaves e valores do dicionário.\n",
    "\n",
    "2. Crie um dicionário para armazenar o estoque de uma loja (produto e quantidade). Atualize a quantidade de um produto específico.\n",
    "3. Verifique se a chave \"endereço\" está presente no dicionário `{\"nome\": \"Maria\", \"idade\": 30}`.\n",
    "4. Crie um dicionário com números e seus quadrados (ex.: `{1: 1, 2: 4, 3: 9}`) para os números de 1 a 5.\n",
    "\n",
    "---"
   ]
  }
 ],
 "metadata": {
  "kernelspec": {
   "display_name": "Python 3",
   "language": "python",
   "name": "python3"
  },
  "language_info": {
   "codemirror_mode": {
    "name": "ipython",
    "version": 3
   },
   "file_extension": ".py",
   "mimetype": "text/x-python",
   "name": "python",
   "nbconvert_exporter": "python",
   "pygments_lexer": "ipython3",
   "version": "3.11.5"
  }
 },
 "nbformat": 4,
 "nbformat_minor": 2
}
